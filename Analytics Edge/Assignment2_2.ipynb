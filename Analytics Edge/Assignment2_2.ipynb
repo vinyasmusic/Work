{
 "cells": [
  {
   "cell_type": "markdown",
   "metadata": {
    "collapsed": true
   },
   "source": [
    "###### Reading Test Scores"
   ]
  },
  {
   "cell_type": "code",
   "execution_count": 2,
   "metadata": {
    "collapsed": true
   },
   "outputs": [],
   "source": [
    "pisa_train=read.csv(\"Data Files/pisa2009train.csv\")"
   ]
  },
  {
   "cell_type": "code",
   "execution_count": 3,
   "metadata": {
    "collapsed": true
   },
   "outputs": [],
   "source": [
    "pisa_test=read.csv(\"Data Files/pisa2009test.csv\")"
   ]
  },
  {
   "cell_type": "code",
   "execution_count": 4,
   "metadata": {
    "collapsed": false
   },
   "outputs": [
    {
     "data": {
      "text/plain": [
       "     grade            male                      raceeth       preschool     \n",
       " Min.   : 8.00   Min.   :0.0000   White             :2015   Min.   :0.0000  \n",
       " 1st Qu.:10.00   1st Qu.:0.0000   Hispanic          : 834   1st Qu.:0.0000  \n",
       " Median :10.00   Median :1.0000   Black             : 444   Median :1.0000  \n",
       " Mean   :10.09   Mean   :0.5111   Asian             : 143   Mean   :0.7228  \n",
       " 3rd Qu.:10.00   3rd Qu.:1.0000   More than one race: 124   3rd Qu.:1.0000  \n",
       " Max.   :12.00   Max.   :1.0000   (Other)           :  68   Max.   :1.0000  \n",
       "                                  NA's              :  35   NA's   :56      \n",
       " expectBachelors     motherHS    motherBachelors    motherWork    \n",
       " Min.   :0.0000   Min.   :0.00   Min.   :0.0000   Min.   :0.0000  \n",
       " 1st Qu.:1.0000   1st Qu.:1.00   1st Qu.:0.0000   1st Qu.:0.0000  \n",
       " Median :1.0000   Median :1.00   Median :0.0000   Median :1.0000  \n",
       " Mean   :0.7859   Mean   :0.88   Mean   :0.3481   Mean   :0.7345  \n",
       " 3rd Qu.:1.0000   3rd Qu.:1.00   3rd Qu.:1.0000   3rd Qu.:1.0000  \n",
       " Max.   :1.0000   Max.   :1.00   Max.   :1.0000   Max.   :1.0000  \n",
       " NA's   :62       NA's   :97     NA's   :397      NA's   :93      \n",
       "    fatherHS      fatherBachelors    fatherWork       selfBornUS    \n",
       " Min.   :0.0000   Min.   :0.0000   Min.   :0.0000   Min.   :0.0000  \n",
       " 1st Qu.:1.0000   1st Qu.:0.0000   1st Qu.:1.0000   1st Qu.:1.0000  \n",
       " Median :1.0000   Median :0.0000   Median :1.0000   Median :1.0000  \n",
       " Mean   :0.8593   Mean   :0.3319   Mean   :0.8531   Mean   :0.9313  \n",
       " 3rd Qu.:1.0000   3rd Qu.:1.0000   3rd Qu.:1.0000   3rd Qu.:1.0000  \n",
       " Max.   :1.0000   Max.   :1.0000   Max.   :1.0000   Max.   :1.0000  \n",
       " NA's   :245      NA's   :569      NA's   :233      NA's   :69      \n",
       "  motherBornUS     fatherBornUS    englishAtHome    computerForSchoolwork\n",
       " Min.   :0.0000   Min.   :0.0000   Min.   :0.0000   Min.   :0.0000       \n",
       " 1st Qu.:1.0000   1st Qu.:1.0000   1st Qu.:1.0000   1st Qu.:1.0000       \n",
       " Median :1.0000   Median :1.0000   Median :1.0000   Median :1.0000       \n",
       " Mean   :0.7725   Mean   :0.7668   Mean   :0.8717   Mean   :0.8994       \n",
       " 3rd Qu.:1.0000   3rd Qu.:1.0000   3rd Qu.:1.0000   3rd Qu.:1.0000       \n",
       " Max.   :1.0000   Max.   :1.0000   Max.   :1.0000   Max.   :1.0000       \n",
       " NA's   :71       NA's   :113      NA's   :71       NA's   :65           \n",
       " read30MinsADay   minutesPerWeekEnglish studentsInEnglish schoolHasLibrary\n",
       " Min.   :0.0000   Min.   :   0.0        Min.   : 1.0      Min.   :0.0000  \n",
       " 1st Qu.:0.0000   1st Qu.: 225.0        1st Qu.:20.0      1st Qu.:1.0000  \n",
       " Median :0.0000   Median : 250.0        Median :25.0      Median :1.0000  \n",
       " Mean   :0.2899   Mean   : 266.2        Mean   :24.5      Mean   :0.9676  \n",
       " 3rd Qu.:1.0000   3rd Qu.: 300.0        3rd Qu.:30.0      3rd Qu.:1.0000  \n",
       " Max.   :1.0000   Max.   :2400.0        Max.   :75.0      Max.   :1.0000  \n",
       " NA's   :34       NA's   :186           NA's   :249       NA's   :143     \n",
       "  publicSchool        urban          schoolSize    readingScore  \n",
       " Min.   :0.0000   Min.   :0.0000   Min.   : 100   Min.   :168.6  \n",
       " 1st Qu.:1.0000   1st Qu.:0.0000   1st Qu.: 712   1st Qu.:431.7  \n",
       " Median :1.0000   Median :0.0000   Median :1212   Median :499.7  \n",
       " Mean   :0.9339   Mean   :0.3849   Mean   :1369   Mean   :497.9  \n",
       " 3rd Qu.:1.0000   3rd Qu.:1.0000   3rd Qu.:1900   3rd Qu.:566.2  \n",
       " Max.   :1.0000   Max.   :1.0000   Max.   :6694   Max.   :746.0  \n",
       "                                   NA's   :162                   "
      ]
     },
     "execution_count": 4,
     "metadata": {},
     "output_type": "execute_result"
    }
   ],
   "source": [
    "summary(pisa_train)"
   ]
  },
  {
   "cell_type": "code",
   "execution_count": 5,
   "metadata": {
    "collapsed": false
   },
   "outputs": [
    {
     "data": {
      "text/html": [
       "<dl class=dl-horizontal>\n",
       "\t<dt>0</dt>\n",
       "\t\t<dd>512.94063093244</dd>\n",
       "\t<dt>1</dt>\n",
       "\t\t<dd>483.532478632479</dd>\n",
       "</dl>\n"
      ],
      "text/latex": [
       "\\begin{description*}\n",
       "\\item[0] 512.94063093244\n",
       "\\item[1] 483.532478632479\n",
       "\\end{description*}\n"
      ],
      "text/markdown": [
       "0\n",
       ":   512.940630932441\n",
       ":   483.532478632479\n",
       "\n"
      ],
      "text/plain": [
       "       0        1 \n",
       "512.9406 483.5325 "
      ]
     },
     "execution_count": 5,
     "metadata": {},
     "output_type": "execute_result"
    }
   ],
   "source": [
    "(tapply(pisa_train$readingScore,pisa_train$male,mean))"
   ]
  },
  {
   "cell_type": "markdown",
   "metadata": {},
   "source": [
    "    1 gives Male mean reading score whereas 0 gives Female reading score"
   ]
  },
  {
   "cell_type": "code",
   "execution_count": 6,
   "metadata": {
    "collapsed": true
   },
   "outputs": [],
   "source": [
    "pisa_train = na.omit(pisa_train)\n",
    "\n",
    "pisa_test = na.omit(pisa_test)"
   ]
  },
  {
   "cell_type": "markdown",
   "metadata": {},
   "source": [
    "    Removes NA fields"
   ]
  },
  {
   "cell_type": "code",
   "execution_count": 7,
   "metadata": {
    "collapsed": false
   },
   "outputs": [
    {
     "data": {
      "text/plain": [
       "     grade            male                                          raceeth    \n",
       " Min.   : 8.00   Min.   :0.0000   American Indian/Alaska Native         :  20  \n",
       " 1st Qu.:10.00   1st Qu.:0.0000   Asian                                 :  95  \n",
       " Median :10.00   Median :1.0000   Black                                 : 228  \n",
       " Mean   :10.13   Mean   :0.5012   Hispanic                              : 500  \n",
       " 3rd Qu.:10.00   3rd Qu.:1.0000   More than one race                    :  81  \n",
       " Max.   :12.00   Max.   :1.0000   Native Hawaiian/Other Pacific Islander:  20  \n",
       "                                  White                                 :1470  \n",
       "   preschool      expectBachelors     motherHS     motherBachelors \n",
       " Min.   :0.0000   Min.   :0.0000   Min.   :0.000   Min.   :0.0000  \n",
       " 1st Qu.:0.0000   1st Qu.:1.0000   1st Qu.:1.000   1st Qu.:0.0000  \n",
       " Median :1.0000   Median :1.0000   Median :1.000   Median :0.0000  \n",
       " Mean   :0.7274   Mean   :0.8343   Mean   :0.896   Mean   :0.3637  \n",
       " 3rd Qu.:1.0000   3rd Qu.:1.0000   3rd Qu.:1.000   3rd Qu.:1.0000  \n",
       " Max.   :1.0000   Max.   :1.0000   Max.   :1.000   Max.   :1.0000  \n",
       "                                                                   \n",
       "   motherWork        fatherHS      fatherBachelors    fatherWork    \n",
       " Min.   :0.0000   Min.   :0.0000   Min.   :0.0000   Min.   :0.0000  \n",
       " 1st Qu.:0.0000   1st Qu.:1.0000   1st Qu.:0.0000   1st Qu.:1.0000  \n",
       " Median :1.0000   Median :1.0000   Median :0.0000   Median :1.0000  \n",
       " Mean   :0.7357   Mean   :0.8741   Mean   :0.3484   Mean   :0.8571  \n",
       " 3rd Qu.:1.0000   3rd Qu.:1.0000   3rd Qu.:1.0000   3rd Qu.:1.0000  \n",
       " Max.   :1.0000   Max.   :1.0000   Max.   :1.0000   Max.   :1.0000  \n",
       "                                                                    \n",
       "   selfBornUS      motherBornUS   fatherBornUS    englishAtHome   \n",
       " Min.   :0.0000   Min.   :0.00   Min.   :0.0000   Min.   :0.0000  \n",
       " 1st Qu.:1.0000   1st Qu.:1.00   1st Qu.:1.0000   1st Qu.:1.0000  \n",
       " Median :1.0000   Median :1.00   Median :1.0000   Median :1.0000  \n",
       " Mean   :0.9362   Mean   :0.79   Mean   :0.7854   Mean   :0.8815  \n",
       " 3rd Qu.:1.0000   3rd Qu.:1.00   3rd Qu.:1.0000   3rd Qu.:1.0000  \n",
       " Max.   :1.0000   Max.   :1.00   Max.   :1.0000   Max.   :1.0000  \n",
       "                                                                  \n",
       " computerForSchoolwork read30MinsADay   minutesPerWeekEnglish studentsInEnglish\n",
       " Min.   :0.0000        Min.   :0.0000   Min.   :   0.0        Min.   : 1.00    \n",
       " 1st Qu.:1.0000        1st Qu.:0.0000   1st Qu.: 225.0        1st Qu.:20.00    \n",
       " Median :1.0000        Median :0.0000   Median : 250.0        Median :25.00    \n",
       " Mean   :0.9155        Mean   :0.3016   Mean   : 269.8        Mean   :24.56    \n",
       " 3rd Qu.:1.0000        3rd Qu.:1.0000   3rd Qu.: 300.0        3rd Qu.:30.00    \n",
       " Max.   :1.0000        Max.   :1.0000   Max.   :1680.0        Max.   :75.00    \n",
       "                                                                               \n",
       " schoolHasLibrary  publicSchool        urban          schoolSize  \n",
       " Min.   :0.0000   Min.   :0.0000   Min.   :0.0000   Min.   : 100  \n",
       " 1st Qu.:1.0000   1st Qu.:1.0000   1st Qu.:0.0000   1st Qu.: 712  \n",
       " Median :1.0000   Median :1.0000   Median :0.0000   Median :1233  \n",
       " Mean   :0.9714   Mean   :0.9176   Mean   :0.3629   Mean   :1372  \n",
       " 3rd Qu.:1.0000   3rd Qu.:1.0000   3rd Qu.:1.0000   3rd Qu.:1900  \n",
       " Max.   :1.0000   Max.   :1.0000   Max.   :1.0000   Max.   :6694  \n",
       "                                                                  \n",
       "  readingScore  \n",
       " Min.   :244.5  \n",
       " 1st Qu.:455.8  \n",
       " Median :520.2  \n",
       " Mean   :518.0  \n",
       " 3rd Qu.:581.4  \n",
       " Max.   :746.0  \n",
       "                "
      ]
     },
     "execution_count": 7,
     "metadata": {},
     "output_type": "execute_result"
    }
   ],
   "source": [
    "summary(pisa_train)"
   ]
  },
  {
   "cell_type": "code",
   "execution_count": 59,
   "metadata": {
    "collapsed": false
   },
   "outputs": [
    {
     "name": "stdout",
     "output_type": "stream",
     "text": [
      "'data.frame':\t2414 obs. of  24 variables:\n",
      " $ grade                : int  11 10 10 10 10 10 10 10 11 9 ...\n",
      " $ male                 : int  1 0 1 0 1 0 0 0 1 1 ...\n",
      " $ raceeth              : Factor w/ 7 levels \"White\",\"American Indian/Alaska Native\",..: 1 4 5 1 6 5 1 5 1 1 ...\n",
      " $ preschool            : int  0 1 1 1 1 1 1 1 1 1 ...\n",
      " $ expectBachelors      : int  0 1 0 1 1 1 1 0 1 1 ...\n",
      " $ motherHS             : int  1 0 1 1 1 1 1 0 1 1 ...\n",
      " $ motherBachelors      : int  1 0 0 0 1 0 0 0 0 1 ...\n",
      " $ motherWork           : int  1 1 1 0 1 1 1 0 0 1 ...\n",
      " $ fatherHS             : int  1 1 1 1 0 1 1 0 1 1 ...\n",
      " $ fatherBachelors      : int  0 0 0 0 0 0 1 0 1 1 ...\n",
      " $ fatherWork           : int  1 1 0 1 1 0 1 1 1 1 ...\n",
      " $ selfBornUS           : int  1 1 1 1 1 0 1 0 1 1 ...\n",
      " $ motherBornUS         : int  1 1 1 1 1 0 1 0 1 1 ...\n",
      " $ fatherBornUS         : int  1 1 0 1 1 0 1 0 1 1 ...\n",
      " $ englishAtHome        : int  1 1 1 1 1 0 1 0 1 1 ...\n",
      " $ computerForSchoolwork: int  1 1 1 1 1 0 1 1 1 1 ...\n",
      " $ read30MinsADay       : int  1 1 1 1 0 1 1 1 0 0 ...\n",
      " $ minutesPerWeekEnglish: int  450 200 250 300 294 232 225 270 275 225 ...\n",
      " $ studentsInEnglish    : int  25 23 35 30 24 14 20 25 30 15 ...\n",
      " $ schoolHasLibrary     : int  1 1 1 1 1 1 1 1 1 1 ...\n",
      " $ publicSchool         : int  1 1 1 1 1 1 1 1 1 0 ...\n",
      " $ urban                : int  0 1 1 0 0 0 0 1 1 1 ...\n",
      " $ schoolSize           : int  1173 2640 1095 1913 899 1733 149 1400 1988 915 ...\n",
      " $ readingScore         : num  575 458 614 439 466 ...\n",
      " - attr(*, \"na.action\")=Class 'omit'  Named int [1:1249] 1 3 6 7 9 11 13 21 29 30 ...\n",
      "  .. ..- attr(*, \"names\")= chr [1:1249] \"1\" \"3\" \"6\" \"7\" ...\n"
     ]
    }
   ],
   "source": [
    "str(pisa_train)"
   ]
  },
  {
   "cell_type": "code",
   "execution_count": 10,
   "metadata": {
    "collapsed": false
   },
   "outputs": [],
   "source": [
    "pisa_train$raceeth = relevel(pisa_train$raceeth, \"White\")"
   ]
  },
  {
   "cell_type": "code",
   "execution_count": 11,
   "metadata": {
    "collapsed": true
   },
   "outputs": [],
   "source": [
    "pisa_test$raceeth = relevel(pisa_test$raceeth, \"White\")"
   ]
  },
  {
   "cell_type": "code",
   "execution_count": 12,
   "metadata": {
    "collapsed": true
   },
   "outputs": [],
   "source": [
    "lmScore=lm(readingScore ~ .,data=pisa_train)"
   ]
  },
  {
   "cell_type": "markdown",
   "metadata": {},
   "source": [
    "    _lm(DependentVar ~.,data=DataVar) . indicates that all independent variables are used to create the model, saves the hassle of typing them out_"
   ]
  },
  {
   "cell_type": "code",
   "execution_count": 14,
   "metadata": {
    "collapsed": false
   },
   "outputs": [
    {
     "data": {
      "text/plain": [
       "\n",
       "Call:\n",
       "lm(formula = readingScore ~ ., data = pisa_train)\n",
       "\n",
       "Residuals:\n",
       "    Min      1Q  Median      3Q     Max \n",
       "-247.44  -48.86    1.86   49.77  217.18 \n",
       "\n",
       "Coefficients:\n",
       "                                                Estimate Std. Error t value\n",
       "(Intercept)                                   143.766333  33.841226   4.248\n",
       "grade                                          29.542707   2.937399  10.057\n",
       "male                                          -14.521653   3.155926  -4.601\n",
       "raceethAmerican Indian/Alaska Native          -67.277327  16.786935  -4.008\n",
       "raceethAsian                                   -4.110325   9.220071  -0.446\n",
       "raceethBlack                                  -67.012347   5.460883 -12.271\n",
       "raceethHispanic                               -38.975486   5.177743  -7.528\n",
       "raceethMore than one race                     -16.922522   8.496268  -1.992\n",
       "raceethNative Hawaiian/Other Pacific Islander  -5.101601  17.005696  -0.300\n",
       "preschool                                      -4.463670   3.486055  -1.280\n",
       "expectBachelors                                55.267080   4.293893  12.871\n",
       "motherHS                                        6.058774   6.091423   0.995\n",
       "motherBachelors                                12.638068   3.861457   3.273\n",
       "motherWork                                     -2.809101   3.521827  -0.798\n",
       "fatherHS                                        4.018214   5.579269   0.720\n",
       "fatherBachelors                                16.929755   3.995253   4.237\n",
       "fatherWork                                      5.842798   4.395978   1.329\n",
       "selfBornUS                                     -3.806278   7.323718  -0.520\n",
       "motherBornUS                                   -8.798153   6.587621  -1.336\n",
       "fatherBornUS                                    4.306994   6.263875   0.688\n",
       "englishAtHome                                   8.035685   6.859492   1.171\n",
       "computerForSchoolwork                          22.500232   5.702562   3.946\n",
       "read30MinsADay                                 34.871924   3.408447  10.231\n",
       "minutesPerWeekEnglish                           0.012788   0.010712   1.194\n",
       "studentsInEnglish                              -0.286631   0.227819  -1.258\n",
       "schoolHasLibrary                               12.215085   9.264884   1.318\n",
       "publicSchool                                  -16.857475   6.725614  -2.506\n",
       "urban                                          -0.110132   3.962724  -0.028\n",
       "schoolSize                                      0.006540   0.002197   2.977\n",
       "                                              Pr(>|t|)    \n",
       "(Intercept)                                   2.24e-05 ***\n",
       "grade                                          < 2e-16 ***\n",
       "male                                          4.42e-06 ***\n",
       "raceethAmerican Indian/Alaska Native          6.32e-05 ***\n",
       "raceethAsian                                   0.65578    \n",
       "raceethBlack                                   < 2e-16 ***\n",
       "raceethHispanic                               7.29e-14 ***\n",
       "raceethMore than one race                      0.04651 *  \n",
       "raceethNative Hawaiian/Other Pacific Islander  0.76421    \n",
       "preschool                                      0.20052    \n",
       "expectBachelors                                < 2e-16 ***\n",
       "motherHS                                       0.32001    \n",
       "motherBachelors                                0.00108 ** \n",
       "motherWork                                     0.42517    \n",
       "fatherHS                                       0.47147    \n",
       "fatherBachelors                               2.35e-05 ***\n",
       "fatherWork                                     0.18393    \n",
       "selfBornUS                                     0.60331    \n",
       "motherBornUS                                   0.18182    \n",
       "fatherBornUS                                   0.49178    \n",
       "englishAtHome                                  0.24153    \n",
       "computerForSchoolwork                         8.19e-05 ***\n",
       "read30MinsADay                                 < 2e-16 ***\n",
       "minutesPerWeekEnglish                          0.23264    \n",
       "studentsInEnglish                              0.20846    \n",
       "schoolHasLibrary                               0.18749    \n",
       "publicSchool                                   0.01226 *  \n",
       "urban                                          0.97783    \n",
       "schoolSize                                     0.00294 ** \n",
       "---\n",
       "Signif. codes:  0 '***' 0.001 '**' 0.01 '*' 0.05 '.' 0.1 ' ' 1\n",
       "\n",
       "Residual standard error: 73.81 on 2385 degrees of freedom\n",
       "Multiple R-squared:  0.3251,\tAdjusted R-squared:  0.3172 \n",
       "F-statistic: 41.04 on 28 and 2385 DF,  p-value: < 2.2e-16\n"
      ]
     },
     "execution_count": 14,
     "metadata": {},
     "output_type": "execute_result"
    }
   ],
   "source": [
    "summary(lmScore)"
   ]
  },
  {
   "cell_type": "markdown",
   "metadata": {},
   "source": [
    "    Low multiple R2 does not necessarily imply that the model is of poor quality. More often than not, it simply means that the prediction problem at hand is complex"
   ]
  },
  {
   "cell_type": "code",
   "execution_count": 20,
   "metadata": {
    "collapsed": true
   },
   "outputs": [],
   "source": [
    "SSE=sum(lmScore$residuals^2)"
   ]
  },
  {
   "cell_type": "code",
   "execution_count": 26,
   "metadata": {
    "collapsed": true
   },
   "outputs": [],
   "source": [
    "SST=sum((mean(pisa_train$readingScore)-lmScore$residuals)^2)"
   ]
  },
  {
   "cell_type": "code",
   "execution_count": 33,
   "metadata": {
    "collapsed": true
   },
   "outputs": [],
   "source": [
    "RMSE=sqrt(SSE/nrow(pisa_train))"
   ]
  },
  {
   "cell_type": "code",
   "execution_count": 34,
   "metadata": {
    "collapsed": false
   },
   "outputs": [
    {
     "data": {
      "text/html": [
       "12993364.9868771"
      ],
      "text/latex": [
       "12993364.9868771"
      ],
      "text/markdown": [
       "12993364.9868771"
      ],
      "text/plain": [
       "[1] 12993365"
      ]
     },
     "execution_count": 34,
     "metadata": {},
     "output_type": "execute_result"
    }
   ],
   "source": [
    "SSE"
   ]
  },
  {
   "cell_type": "code",
   "execution_count": 35,
   "metadata": {
    "collapsed": false
   },
   "outputs": [
    {
     "data": {
      "text/html": [
       "660634689.071802"
      ],
      "text/latex": [
       "660634689.071802"
      ],
      "text/markdown": [
       "660634689.071802"
      ],
      "text/plain": [
       "[1] 660634689"
      ]
     },
     "execution_count": 35,
     "metadata": {},
     "output_type": "execute_result"
    }
   ],
   "source": [
    "SST"
   ]
  },
  {
   "cell_type": "code",
   "execution_count": 36,
   "metadata": {
    "collapsed": false
   },
   "outputs": [
    {
     "data": {
      "text/html": [
       "73.3655514329846"
      ],
      "text/latex": [
       "73.3655514329846"
      ],
      "text/markdown": [
       "73.3655514329846"
      ],
      "text/plain": [
       "[1] 73.36555"
      ]
     },
     "execution_count": 36,
     "metadata": {},
     "output_type": "execute_result"
    }
   ],
   "source": [
    "RMSE"
   ]
  },
  {
   "cell_type": "code",
   "execution_count": 49,
   "metadata": {
    "collapsed": false
   },
   "outputs": [],
   "source": [
    "RMSE_alternate=sqrt(mean(lmScore$residuals^2))"
   ]
  },
  {
   "cell_type": "markdown",
   "metadata": {},
   "source": [
    "    _The coefficient 29.54 on grade is the difference in reading score between two students who are identical other than having a difference in grade of 1. Because A and B have a difference in grade of 2, the model predicts that student A has a reading score that is 2*29.54 larger._"
   ]
  },
  {
   "cell_type": "code",
   "execution_count": 50,
   "metadata": {
    "collapsed": false
   },
   "outputs": [
    {
     "data": {
      "text/html": [
       "73.3655514329846"
      ],
      "text/latex": [
       "73.3655514329846"
      ],
      "text/markdown": [
       "73.3655514329846"
      ],
      "text/plain": [
       "[1] 73.36555"
      ]
     },
     "execution_count": 50,
     "metadata": {},
     "output_type": "execute_result"
    }
   ],
   "source": [
    "\n",
    "\n",
    "RMSE_alternate"
   ]
  },
  {
   "cell_type": "code",
   "execution_count": 51,
   "metadata": {
    "collapsed": false
   },
   "outputs": [],
   "source": [
    "predictlm=predict(lmScore,newdata=pisa_test)"
   ]
  },
  {
   "cell_type": "markdown",
   "metadata": {},
   "source": [
    "    What is the sum of squared errors (SSE) of lmScore on the testing set?"
   ]
  },
  {
   "cell_type": "code",
   "execution_count": 60,
   "metadata": {
    "collapsed": false
   },
   "outputs": [],
   "source": [
    "SSE=sum((pisa_test$readingScore-predictlm)^2)"
   ]
  },
  {
   "cell_type": "code",
   "execution_count": 61,
   "metadata": {
    "collapsed": false
   },
   "outputs": [
    {
     "data": {
      "text/html": [
       "5762082.3711444"
      ],
      "text/latex": [
       "5762082.3711444"
      ],
      "text/markdown": [
       "5762082.3711444"
      ],
      "text/plain": [
       "[1] 5762082"
      ]
     },
     "execution_count": 61,
     "metadata": {},
     "output_type": "execute_result"
    }
   ],
   "source": [
    "SSE"
   ]
  },
  {
   "cell_type": "code",
   "execution_count": 56,
   "metadata": {
    "collapsed": false
   },
   "outputs": [
    {
     "data": {
      "text/html": [
       "284.468311795139"
      ],
      "text/latex": [
       "284.468311795139"
      ],
      "text/markdown": [
       "284.468311795139"
      ],
      "text/plain": [
       "[1] 284.4683"
      ]
     },
     "execution_count": 56,
     "metadata": {},
     "output_type": "execute_result"
    }
   ],
   "source": [
    "max(predictlm)-min(predictlm)"
   ]
  },
  {
   "cell_type": "markdown",
   "metadata": {},
   "source": [
    "    What is the root-mean squared error (RMSE) of lmScore on the testing set?"
   ]
  },
  {
   "cell_type": "code",
   "execution_count": 62,
   "metadata": {
    "collapsed": false
   },
   "outputs": [
    {
     "data": {
      "text/html": [
       "76.290793831092"
      ],
      "text/latex": [
       "76.290793831092"
      ],
      "text/markdown": [
       "76.290793831092"
      ],
      "text/plain": [
       "[1] 76.29079"
      ]
     },
     "execution_count": 62,
     "metadata": {},
     "output_type": "execute_result"
    }
   ],
   "source": [
    "sqrt(SSE/nrow(pisa_test))"
   ]
  },
  {
   "cell_type": "markdown",
   "metadata": {},
   "source": [
    "    What is the predicted test score used in the baseline model? Remember to compute this value using the training set and not the test set."
   ]
  },
  {
   "cell_type": "code",
   "execution_count": 63,
   "metadata": {
    "collapsed": false
   },
   "outputs": [
    {
     "data": {
      "text/html": [
       "517.962887323944"
      ],
      "text/latex": [
       "517.962887323944"
      ],
      "text/markdown": [
       "517.962887323944"
      ],
      "text/plain": [
       "[1] 517.9629"
      ]
     },
     "execution_count": 63,
     "metadata": {},
     "output_type": "execute_result"
    }
   ],
   "source": [
    "mean(pisa_train$readingScore)"
   ]
  },
  {
   "cell_type": "markdown",
   "metadata": {},
   "source": [
    "    What is the sum of squared errors of the baseline model on the testing set? HINT: We call the sum of squared errors for the baseline model the total sum of squares (SST)."
   ]
  },
  {
   "cell_type": "code",
   "execution_count": 66,
   "metadata": {
    "collapsed": true
   },
   "outputs": [],
   "source": [
    "SST=sum((mean(pisa_train$readingScore)-pisa_test$readingScore)^2)"
   ]
  },
  {
   "cell_type": "code",
   "execution_count": 67,
   "metadata": {
    "collapsed": false
   },
   "outputs": [
    {
     "data": {
      "text/html": [
       "7802354.07761384"
      ],
      "text/latex": [
       "7802354.07761384"
      ],
      "text/markdown": [
       "7802354.07761384"
      ],
      "text/plain": [
       "[1] 7802354"
      ]
     },
     "execution_count": 67,
     "metadata": {},
     "output_type": "execute_result"
    }
   ],
   "source": [
    "SST"
   ]
  },
  {
   "cell_type": "code",
   "execution_count": 71,
   "metadata": {
    "collapsed": false
   },
   "outputs": [],
   "source": [
    "R2=1-SSE/SST"
   ]
  },
  {
   "cell_type": "code",
   "execution_count": 72,
   "metadata": {
    "collapsed": false
   },
   "outputs": [
    {
     "data": {
      "text/html": [
       "0.261494375437702"
      ],
      "text/latex": [
       "0.261494375437702"
      ],
      "text/markdown": [
       "0.261494375437702"
      ],
      "text/plain": [
       "[1] 0.2614944"
      ]
     },
     "execution_count": 72,
     "metadata": {},
     "output_type": "execute_result"
    }
   ],
   "source": [
    "R2"
   ]
  },
  {
   "cell_type": "code",
   "execution_count": null,
   "metadata": {
    "collapsed": true
   },
   "outputs": [],
   "source": []
  }
 ],
 "metadata": {
  "celltoolbar": "Raw Cell Format",
  "kernelspec": {
   "display_name": "R",
   "language": "R",
   "name": "ir"
  },
  "language_info": {
   "codemirror_mode": "r",
   "file_extension": ".r",
   "mimetype": "text/x-r-source",
   "name": "R",
   "pygments_lexer": "r",
   "version": "3.1.3"
  }
 },
 "nbformat": 4,
 "nbformat_minor": 0
}
