{
 "cells": [
  {
   "cell_type": "markdown",
   "metadata": {
    "collapsed": true
   },
   "source": [
    "###### Climate Change"
   ]
  },
  {
   "cell_type": "code",
   "execution_count": 3,
   "metadata": {
    "collapsed": true
   },
   "outputs": [],
   "source": [
    "climate=read.csv(\"Data Files/climate_change.csv\")"
   ]
  },
  {
   "cell_type": "code",
   "execution_count": 39,
   "metadata": {
    "collapsed": false
   },
   "outputs": [
    {
     "data": {
      "text/plain": [
       "      Year          Month             MEI               CO2       \n",
       " Min.   :1983   Min.   : 1.000   Min.   :-1.6350   Min.   :340.2  \n",
       " 1st Qu.:1989   1st Qu.: 4.000   1st Qu.:-0.3987   1st Qu.:353.0  \n",
       " Median :1996   Median : 7.000   Median : 0.2375   Median :361.7  \n",
       " Mean   :1996   Mean   : 6.552   Mean   : 0.2756   Mean   :363.2  \n",
       " 3rd Qu.:2002   3rd Qu.:10.000   3rd Qu.: 0.8305   3rd Qu.:373.5  \n",
       " Max.   :2008   Max.   :12.000   Max.   : 3.0010   Max.   :388.5  \n",
       "      CH4            N2O            CFC.11          CFC.12           TSI      \n",
       " Min.   :1630   Min.   :303.7   Min.   :191.3   Min.   :350.1   Min.   :1365  \n",
       " 1st Qu.:1722   1st Qu.:308.1   1st Qu.:246.3   1st Qu.:472.4   1st Qu.:1366  \n",
       " Median :1764   Median :311.5   Median :258.3   Median :528.4   Median :1366  \n",
       " Mean   :1750   Mean   :312.4   Mean   :252.0   Mean   :497.5   Mean   :1366  \n",
       " 3rd Qu.:1787   3rd Qu.:317.0   3rd Qu.:267.0   3rd Qu.:540.5   3rd Qu.:1366  \n",
       " Max.   :1814   Max.   :322.2   Max.   :271.5   Max.   :543.8   Max.   :1367  \n",
       "    Aerosols            Temp        \n",
       " Min.   :0.00160   Min.   :-0.2820  \n",
       " 1st Qu.:0.00280   1st Qu.: 0.1217  \n",
       " Median :0.00575   Median : 0.2480  \n",
       " Mean   :0.01666   Mean   : 0.2568  \n",
       " 3rd Qu.:0.01260   3rd Qu.: 0.4073  \n",
       " Max.   :0.14940   Max.   : 0.7390  "
      ]
     },
     "execution_count": 39,
     "metadata": {},
     "output_type": "execute_result"
    }
   ],
   "source": [
    "summary(climate)"
   ]
  },
  {
   "cell_type": "code",
   "execution_count": 4,
   "metadata": {
    "collapsed": true
   },
   "outputs": [],
   "source": [
    "climate_training=subset(climate,climate$Year<=2006)"
   ]
  },
  {
   "cell_type": "code",
   "execution_count": 5,
   "metadata": {
    "collapsed": true
   },
   "outputs": [],
   "source": [
    "climate_test=subset(climate,climate$Year>2006)"
   ]
  },
  {
   "cell_type": "code",
   "execution_count": 6,
   "metadata": {
    "collapsed": true
   },
   "outputs": [],
   "source": [
    "model1=lm(Temp ~ MEI+ CO2 + CH4 + N2O + CFC.11 + CFC.12 + TSI + Aerosols,data=climate_training)\n"
   ]
  },
  {
   "cell_type": "markdown",
   "metadata": {},
   "source": [
    "    variable=lm(DependentVar ~ IndependentVar1 + IndepVar2,data=datasource) - Linear Regression Model equation\n",
    "\n",
    "\tThe Estimate column gives estimates of the beta values for our model. \n",
    "\tbeta 0, or the coefficient for the intercept term \n",
    "\tbeta 1, or the coefficient for our independent variable\n",
    "    and so forth for other independent var as per the number of Variables chosen"
   ]
  },
  {
   "cell_type": "code",
   "execution_count": 7,
   "metadata": {
    "collapsed": false
   },
   "outputs": [
    {
     "data": {
      "text/plain": [
       "\n",
       "Call:\n",
       "lm(formula = Temp ~ MEI + CO2 + CH4 + N2O + CFC.11 + CFC.12 + \n",
       "    TSI + Aerosols, data = climate_training)\n",
       "\n",
       "Residuals:\n",
       "     Min       1Q   Median       3Q      Max \n",
       "-0.25888 -0.05913 -0.00082  0.05649  0.32433 \n",
       "\n",
       "Coefficients:\n",
       "              Estimate Std. Error t value Pr(>|t|)    \n",
       "(Intercept) -1.246e+02  1.989e+01  -6.265 1.43e-09 ***\n",
       "MEI          6.421e-02  6.470e-03   9.923  < 2e-16 ***\n",
       "CO2          6.457e-03  2.285e-03   2.826  0.00505 ** \n",
       "CH4          1.240e-04  5.158e-04   0.240  0.81015    \n",
       "N2O         -1.653e-02  8.565e-03  -1.930  0.05467 .  \n",
       "CFC.11      -6.631e-03  1.626e-03  -4.078 5.96e-05 ***\n",
       "CFC.12       3.808e-03  1.014e-03   3.757  0.00021 ***\n",
       "TSI          9.314e-02  1.475e-02   6.313 1.10e-09 ***\n",
       "Aerosols    -1.538e+00  2.133e-01  -7.210 5.41e-12 ***\n",
       "---\n",
       "Signif. codes:  0 '***' 0.001 '**' 0.01 '*' 0.05 '.' 0.1 ' ' 1\n",
       "\n",
       "Residual standard error: 0.09171 on 275 degrees of freedom\n",
       "Multiple R-squared:  0.7509,\tAdjusted R-squared:  0.7436 \n",
       "F-statistic: 103.6 on 8 and 275 DF,  p-value: < 2.2e-16\n"
      ]
     },
     "execution_count": 7,
     "metadata": {},
     "output_type": "execute_result"
    }
   ],
   "source": [
    "summary(model1)"
   ]
  },
  {
   "cell_type": "code",
   "execution_count": 23,
   "metadata": {
    "collapsed": false
   },
   "outputs": [
    {
     "data": {
      "text/html": [
       "-0.0508197754723296"
      ],
      "text/latex": [
       "-0.0508197754723296"
      ],
      "text/markdown": [
       "-0.0508197754723296"
      ],
      "text/plain": [
       "[1] -0.05081978"
      ]
     },
     "execution_count": 23,
     "metadata": {},
     "output_type": "execute_result"
    },
    {
     "data": {
      "text/html": [
       "0.976719818217478"
      ],
      "text/latex": [
       "0.976719818217478"
      ],
      "text/markdown": [
       "0.976719818217478"
      ],
      "text/plain": [
       "[1] 0.9767198"
      ]
     },
     "execution_count": 23,
     "metadata": {},
     "output_type": "execute_result"
    },
    {
     "data": {
      "text/html": [
       "0.899838643766285"
      ],
      "text/latex": [
       "0.899838643766285"
      ],
      "text/markdown": [
       "0.899838643766285"
      ],
      "text/plain": [
       "[1] 0.8998386"
      ]
     },
     "execution_count": 23,
     "metadata": {},
     "output_type": "execute_result"
    },
    {
     "data": {
      "text/html": [
       "0.522477318794013"
      ],
      "text/latex": [
       "0.522477318794013"
      ],
      "text/markdown": [
       "0.522477318794013"
      ],
      "text/plain": [
       "[1] 0.5224773"
      ]
     },
     "execution_count": 23,
     "metadata": {},
     "output_type": "execute_result"
    },
    {
     "data": {
      "text/html": [
       "0.867930775708513"
      ],
      "text/latex": [
       "0.867930775708513"
      ],
      "text/markdown": [
       "0.867930775708513"
      ],
      "text/plain": [
       "[1] 0.8679308"
      ]
     },
     "execution_count": 23,
     "metadata": {},
     "output_type": "execute_result"
    },
    {
     "data": {
      "text/html": [
       "-0.337054570706549"
      ],
      "text/latex": [
       "-0.337054570706549"
      ],
      "text/markdown": [
       "-0.337054570706549"
      ],
      "text/plain": [
       "[1] -0.3370546"
      ]
     },
     "execution_count": 23,
     "metadata": {},
     "output_type": "execute_result"
    },
    {
     "data": {
      "text/html": [
       "0.199756679427515"
      ],
      "text/latex": [
       "0.199756679427515"
      ],
      "text/markdown": [
       "0.199756679427515"
      ],
      "text/plain": [
       "[1] 0.1997567"
      ]
     },
     "execution_count": 23,
     "metadata": {},
     "output_type": "execute_result"
    }
   ],
   "source": [
    "cor(climate_training$N2O,climate_training$MEI)\n",
    "\n",
    "cor(climate_training$N2O,climate_training$CO2)\n",
    "\n",
    "cor(climate_training$N2O,climate_training$CH4)\n",
    "\n",
    "cor(climate_training$N2O,climate_training$CFC.11)\n",
    "\n",
    "cor(climate_training$N2O,climate_training$CFC.12)\n",
    "\n",
    "cor(climate_training$N2O,climate_training$Aerosols)\n",
    "\n",
    "cor(climate_training$N2O,climate_training$TSI)\n",
    "\n"
   ]
  },
  {
   "cell_type": "code",
   "execution_count": 24,
   "metadata": {
    "collapsed": false
   },
   "outputs": [
    {
     "data": {
      "text/html": [
       "0.522477318794013"
      ],
      "text/latex": [
       "0.522477318794013"
      ],
      "text/markdown": [
       "0.522477318794013"
      ],
      "text/plain": [
       "[1] 0.5224773"
      ]
     },
     "execution_count": 24,
     "metadata": {},
     "output_type": "execute_result"
    },
    {
     "data": {
      "text/html": [
       "0.069000438724312"
      ],
      "text/latex": [
       "0.069000438724312"
      ],
      "text/markdown": [
       "0.069000438724312"
      ],
      "text/plain": [
       "[1] 0.06900044"
      ]
     },
     "execution_count": 24,
     "metadata": {},
     "output_type": "execute_result"
    },
    {
     "data": {
      "text/html": [
       "0.779904020023314"
      ],
      "text/latex": [
       "0.779904020023314"
      ],
      "text/markdown": [
       "0.779904020023314"
      ],
      "text/plain": [
       "[1] 0.779904"
      ]
     },
     "execution_count": 24,
     "metadata": {},
     "output_type": "execute_result"
    },
    {
     "data": {
      "text/html": [
       "0.868985182783086"
      ],
      "text/latex": [
       "0.868985182783086"
      ],
      "text/markdown": [
       "0.868985182783086"
      ],
      "text/plain": [
       "[1] 0.8689852"
      ]
     },
     "execution_count": 24,
     "metadata": {},
     "output_type": "execute_result"
    },
    {
     "data": {
      "text/html": [
       "0.514059748009346"
      ],
      "text/latex": [
       "0.514059748009346"
      ],
      "text/markdown": [
       "0.514059748009346"
      ],
      "text/plain": [
       "[1] 0.5140597"
      ]
     },
     "execution_count": 24,
     "metadata": {},
     "output_type": "execute_result"
    },
    {
     "data": {
      "text/html": [
       "-0.0439211981477644"
      ],
      "text/latex": [
       "-0.0439211981477644"
      ],
      "text/markdown": [
       "-0.0439211981477644"
      ],
      "text/plain": [
       "[1] -0.0439212"
      ]
     },
     "execution_count": 24,
     "metadata": {},
     "output_type": "execute_result"
    },
    {
     "data": {
      "text/html": [
       "0.272045960296639"
      ],
      "text/latex": [
       "0.272045960296639"
      ],
      "text/markdown": [
       "0.272045960296639"
      ],
      "text/plain": [
       "[1] 0.272046"
      ]
     },
     "execution_count": 24,
     "metadata": {},
     "output_type": "execute_result"
    }
   ],
   "source": [
    "cor(climate_training$CFC.11,climate_training$N2O)\n",
    "\n",
    "cor(climate_training$CFC.11,climate_training$MEI)\n",
    "\n",
    "cor(climate_training$CFC.11,climate_training$CH4)\n",
    "\n",
    "cor(climate_training$CFC.11,climate_training$CFC.12)\n",
    "\n",
    "cor(climate_training$CFC.11,climate_training$CO2)\n",
    "\n",
    "cor(climate_training$CFC.11,climate_training$Aerosols)\n",
    "\n",
    "cor(climate_training$CFC.11,climate_training$TSI)"
   ]
  },
  {
   "cell_type": "markdown",
   "metadata": {},
   "source": [
    "    Correlation measures the linear relationship between two variables and is a number between -1 and +1. \n",
    "\tA correlation of +1 means a perfect positive linear relationship.\n",
    "\tA correlation of -1 means a perfect negative linear relationship.\n",
    "\tA correlation of 0, which means there is no linear relationship between the two variables\n",
    "\teg cor(wine$WinterRain,wine$Price)\n",
    "\tTypically, a correlation greater than 0.7 or less than -0.7 is cause for concern."
   ]
  },
  {
   "cell_type": "code",
   "execution_count": 25,
   "metadata": {
    "collapsed": true
   },
   "outputs": [],
   "source": [
    "model2=lm(Temp ~ MEI+ N2O + TSI + Aerosols,data=climate_training)"
   ]
  },
  {
   "cell_type": "code",
   "execution_count": 26,
   "metadata": {
    "collapsed": false
   },
   "outputs": [
    {
     "data": {
      "text/plain": [
       "\n",
       "Call:\n",
       "lm(formula = Temp ~ MEI + N2O + TSI + Aerosols, data = climate_training)\n",
       "\n",
       "Residuals:\n",
       "     Min       1Q   Median       3Q      Max \n",
       "-0.27916 -0.05975 -0.00595  0.05672  0.34195 \n",
       "\n",
       "Coefficients:\n",
       "              Estimate Std. Error t value Pr(>|t|)    \n",
       "(Intercept) -1.162e+02  2.022e+01  -5.747 2.37e-08 ***\n",
       "MEI          6.419e-02  6.652e-03   9.649  < 2e-16 ***\n",
       "N2O          2.532e-02  1.311e-03  19.307  < 2e-16 ***\n",
       "TSI          7.949e-02  1.487e-02   5.344 1.89e-07 ***\n",
       "Aerosols    -1.702e+00  2.180e-01  -7.806 1.19e-13 ***\n",
       "---\n",
       "Signif. codes:  0 '***' 0.001 '**' 0.01 '*' 0.05 '.' 0.1 ' ' 1\n",
       "\n",
       "Residual standard error: 0.09547 on 279 degrees of freedom\n",
       "Multiple R-squared:  0.7261,\tAdjusted R-squared:  0.7222 \n",
       "F-statistic: 184.9 on 4 and 279 DF,  p-value: < 2.2e-16\n"
      ]
     },
     "execution_count": 26,
     "metadata": {},
     "output_type": "execute_result"
    }
   ],
   "source": [
    "summary(model2)"
   ]
  },
  {
   "cell_type": "code",
   "execution_count": 28,
   "metadata": {
    "collapsed": false
   },
   "outputs": [
    {
     "name": "stdout",
     "output_type": "stream",
     "text": [
      "Start:  AIC=-1348.16\n",
      "Temp ~ MEI + CO2 + CH4 + N2O + CFC.11 + CFC.12 + TSI + Aerosols\n",
      "\n",
      "           Df Sum of Sq    RSS     AIC\n",
      "- CH4       1   0.00049 2.3135 -1350.1\n",
      "<none>                  2.3130 -1348.2\n",
      "- N2O       1   0.03132 2.3443 -1346.3\n",
      "- CO2       1   0.06719 2.3802 -1342.0\n",
      "- CFC.12    1   0.11874 2.4318 -1335.9\n",
      "- CFC.11    1   0.13986 2.4529 -1333.5\n",
      "- TSI       1   0.33516 2.6482 -1311.7\n",
      "- Aerosols  1   0.43727 2.7503 -1301.0\n",
      "- MEI       1   0.82823 3.1412 -1263.2\n",
      "\n",
      "Step:  AIC=-1350.1\n",
      "Temp ~ MEI + CO2 + N2O + CFC.11 + CFC.12 + TSI + Aerosols\n",
      "\n",
      "           Df Sum of Sq    RSS     AIC\n",
      "<none>                  2.3135 -1350.1\n",
      "- N2O       1   0.03133 2.3448 -1348.3\n",
      "- CO2       1   0.06672 2.3802 -1344.0\n",
      "- CFC.12    1   0.13023 2.4437 -1336.5\n",
      "- CFC.11    1   0.13938 2.4529 -1335.5\n",
      "- TSI       1   0.33500 2.6485 -1313.7\n",
      "- Aerosols  1   0.43987 2.7534 -1302.7\n",
      "- MEI       1   0.83118 3.1447 -1264.9\n"
     ]
    }
   ],
   "source": [
    "climate_step=step(model1)"
   ]
  },
  {
   "cell_type": "code",
   "execution_count": 29,
   "metadata": {
    "collapsed": false
   },
   "outputs": [
    {
     "data": {
      "text/plain": [
       "\n",
       "Call:\n",
       "lm(formula = Temp ~ MEI + CO2 + N2O + CFC.11 + CFC.12 + TSI + \n",
       "    Aerosols, data = climate_training)\n",
       "\n",
       "Residuals:\n",
       "     Min       1Q   Median       3Q      Max \n",
       "-0.25770 -0.05994 -0.00104  0.05588  0.32203 \n",
       "\n",
       "Coefficients:\n",
       "              Estimate Std. Error t value Pr(>|t|)    \n",
       "(Intercept) -1.245e+02  1.985e+01  -6.273 1.37e-09 ***\n",
       "MEI          6.407e-02  6.434e-03   9.958  < 2e-16 ***\n",
       "CO2          6.402e-03  2.269e-03   2.821 0.005129 ** \n",
       "N2O         -1.602e-02  8.287e-03  -1.933 0.054234 .  \n",
       "CFC.11      -6.609e-03  1.621e-03  -4.078 5.95e-05 ***\n",
       "CFC.12       3.868e-03  9.812e-04   3.942 0.000103 ***\n",
       "TSI          9.312e-02  1.473e-02   6.322 1.04e-09 ***\n",
       "Aerosols    -1.540e+00  2.126e-01  -7.244 4.36e-12 ***\n",
       "---\n",
       "Signif. codes:  0 '***' 0.001 '**' 0.01 '*' 0.05 '.' 0.1 ' ' 1\n",
       "\n",
       "Residual standard error: 0.09155 on 276 degrees of freedom\n",
       "Multiple R-squared:  0.7508,\tAdjusted R-squared:  0.7445 \n",
       "F-statistic: 118.8 on 7 and 276 DF,  p-value: < 2.2e-16\n"
      ]
     },
     "execution_count": 29,
     "metadata": {},
     "output_type": "execute_result"
    }
   ],
   "source": [
    "summary(climate_step)"
   ]
  },
  {
   "cell_type": "code",
   "execution_count": 32,
   "metadata": {
    "collapsed": false
   },
   "outputs": [],
   "source": [
    "climate_predict=predict(climate_step,newdata=climate_test)"
   ]
  },
  {
   "cell_type": "code",
   "execution_count": 35,
   "metadata": {
    "collapsed": true
   },
   "outputs": [],
   "source": [
    "SSE=sum((climate_predict-climate_test$Temp)^2)"
   ]
  },
  {
   "cell_type": "markdown",
   "metadata": {},
   "source": [
    "    SSE = sum(difference in dependent variable of two data sets ^2)\n",
    "    The standard error column gives a measure of how much the coefficient is likely to vary from the estimate value. The t value is the estimate divided by the standard error. It will be negative if the estimate is negative and positive if the estimate is positive.The larger the absolute value of the t value, the more likely the coefficient is to be significant. We want independent variables with a large absolute value\n",
    "    or\n",
    "      SSE = error sum of squares = S (Yi - Est Yi) 2 where Yi is the actual value of Y for the ith case and Est Yi is the regression prediction for the ith case"
   ]
  },
  {
   "cell_type": "code",
   "execution_count": 36,
   "metadata": {
    "collapsed": true
   },
   "outputs": [],
   "source": [
    "SST=sum( (mean(climate_training$Temp)-climate_test$Temp)^2)"
   ]
  },
  {
   "cell_type": "markdown",
   "metadata": {},
   "source": [
    "     SST = total sum of squares =S (Yi - MeanY) 2"
   ]
  },
  {
   "cell_type": "code",
   "execution_count": 37,
   "metadata": {
    "collapsed": true
   },
   "outputs": [],
   "source": [
    "R2 = 1- SSE/SST"
   ]
  },
  {
   "cell_type": "code",
   "execution_count": 38,
   "metadata": {
    "collapsed": false
   },
   "outputs": [
    {
     "data": {
      "text/html": [
       "0.628605122509888"
      ],
      "text/latex": [
       "0.628605122509888"
      ],
      "text/markdown": [
       "0.628605122509888"
      ],
      "text/plain": [
       "[1] 0.6286051"
      ]
     },
     "execution_count": 38,
     "metadata": {},
     "output_type": "execute_result"
    }
   ],
   "source": [
    "R2"
   ]
  },
  {
   "cell_type": "markdown",
   "metadata": {},
   "source": [
    "    Multiple R: The correlation coefficient between the observed and predicted values. It ranges in value from 0 to 1. A small value indicates that there is little or no linear relationship between the dependent variable and the independent variables.\n",
    "\n",
    "    Multiple R^2 is the percent of the variance in the dependent variable, explained by the independent variables. It is also called the coefficient of multiple determination. Mathematically, R^2 = [ 1 - (SSE/SST) ]"
   ]
  },
  {
   "cell_type": "code",
   "execution_count": null,
   "metadata": {
    "collapsed": true
   },
   "outputs": [],
   "source": []
  }
 ],
 "metadata": {
  "kernelspec": {
   "display_name": "R",
   "language": "R",
   "name": "ir"
  },
  "language_info": {
   "codemirror_mode": "r",
   "file_extension": ".r",
   "mimetype": "text/x-r-source",
   "name": "R",
   "pygments_lexer": "r",
   "version": "3.1.3"
  }
 },
 "nbformat": 4,
 "nbformat_minor": 0
}
